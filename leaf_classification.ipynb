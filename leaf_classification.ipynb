{
  "cells": [
    {
      "cell_type": "markdown",
      "metadata": {
        "id": "view-in-github",
        "colab_type": "text"
      },
      "source": [
        "<a href=\"https://colab.research.google.com/github/julenbhy/keras/blob/main/leaf_classification.ipynb\" target=\"_parent\"><img src=\"https://colab.research.google.com/assets/colab-badge.svg\" alt=\"Open In Colab\"/></a>"
      ]
    },
    {
      "cell_type": "code",
      "execution_count": null,
      "metadata": {
        "id": "GLJaIwbtEMng"
      },
      "outputs": [],
      "source": [
        "#!unzip 'drive/MyDrive/Colab Notebooks/data/archive.zip'"
      ]
    },
    {
      "cell_type": "code",
      "execution_count": 2,
      "metadata": {
        "id": "C9MwHLx02nte"
      },
      "outputs": [],
      "source": [
        "import tensorflow as tf\n",
        "import numpy as np\n",
        "import matplotlib.pyplot as plt\n",
        "import cv2\n",
        "from keras.applications.vgg16 import VGG16\n",
        "from keras.applications.vgg16 import preprocess_input\n",
        "from keras.layers import Input, Dense, Flatten\n",
        "from keras.models import Model\n",
        "from tensorflow.keras.optimizers import Adam\n",
        "from keras.callbacks import ModelCheckpoint\n",
        "from tensorflow.keras.preprocessing.image import ImageDataGenerator\n",
        "\n",
        "\n",
        "SIZE = [512, 512]\n",
        "NUM_CLASSES = 4\n",
        "train_path = './data'"
      ]
    },
    {
      "cell_type": "code",
      "execution_count": 3,
      "metadata": {
        "colab": {
          "base_uri": "https://localhost:8080/"
        },
        "id": "0ikDNSJuIdYb",
        "outputId": "2159872c-f905-46b2-fe10-b0973ee12256"
      },
      "outputs": [
        {
          "output_type": "stream",
          "name": "stdout",
          "text": [
            "Found 3352 images belonging to 4 classes.\n",
            "Found 836 images belonging to 4 classes.\n"
          ]
        }
      ],
      "source": [
        "train_datagen = ImageDataGenerator(\n",
        "    rotation_range=40,\n",
        "    width_shift_range=0.2,\n",
        "    height_shift_range=0.2,\n",
        "    shear_range=0.2,\n",
        "    zoom_range=0.2,\n",
        "    horizontal_flip=True,\n",
        "    vertical_flip=True,\n",
        "    fill_mode='nearest',\n",
        "    validation_split=0.2,\n",
        "    preprocessing_function=preprocess_input)\n",
        "\n",
        "\n",
        "\n",
        "train_set = train_datagen.flow_from_directory(train_path,\n",
        "                                                 target_size = (512, 512),\n",
        "                                                 batch_size = 32,\n",
        "                                                 class_mode = 'categorical',\n",
        "                                                 subset='training',\n",
        "                                                 shuffle=True)\n",
        "\n",
        "val_set = train_datagen.flow_from_directory(train_path,\n",
        "                                                 target_size = (512, 512),\n",
        "                                                 batch_size = 32,\n",
        "                                                 class_mode = 'categorical',\n",
        "                                                 subset='validation',\n",
        "                                                 shuffle=True)\n"
      ]
    },
    {
      "cell_type": "code",
      "execution_count": 5,
      "metadata": {
        "colab": {
          "base_uri": "https://localhost:8080/"
        },
        "id": "FjPRsvsc2W3p",
        "outputId": "cbb5fb75-169d-4eca-fb2d-bcbc6d873ca4"
      },
      "outputs": [
        {
          "output_type": "stream",
          "name": "stdout",
          "text": [
            "Epoch 1/10\n",
            "105/105 [==============================] - 299s 3s/step - loss: 2.0894 - accuracy: 0.8329 - val_loss: 1.9128 - val_accuracy: 0.8804\n",
            "Epoch 2/10\n",
            "105/105 [==============================] - 265s 3s/step - loss: 1.6999 - accuracy: 0.8848 - val_loss: 2.1840 - val_accuracy: 0.8648\n",
            "Epoch 3/10\n",
            "105/105 [==============================] - 261s 2s/step - loss: 1.9262 - accuracy: 0.8947 - val_loss: 1.9771 - val_accuracy: 0.8959\n",
            "Epoch 4/10\n",
            "105/105 [==============================] - 265s 3s/step - loss: 2.0064 - accuracy: 0.8938 - val_loss: 1.8869 - val_accuracy: 0.9091\n",
            "Epoch 5/10\n",
            "105/105 [==============================] - 261s 2s/step - loss: 1.8452 - accuracy: 0.9072 - val_loss: 3.1324 - val_accuracy: 0.8720\n",
            "Epoch 6/10\n",
            "105/105 [==============================] - 259s 2s/step - loss: 2.0992 - accuracy: 0.9048 - val_loss: 2.5796 - val_accuracy: 0.9019\n",
            "Epoch 7/10\n",
            "105/105 [==============================] - 260s 2s/step - loss: 2.1647 - accuracy: 0.9042 - val_loss: 1.9511 - val_accuracy: 0.9187\n",
            "Epoch 8/10\n",
            "105/105 [==============================] - 259s 2s/step - loss: 2.1793 - accuracy: 0.9126 - val_loss: 3.1577 - val_accuracy: 0.8923\n",
            "Epoch 9/10\n",
            "105/105 [==============================] - 261s 2s/step - loss: 2.6407 - accuracy: 0.8989 - val_loss: 2.4572 - val_accuracy: 0.9115\n",
            "Epoch 10/10\n",
            "105/105 [==============================] - 265s 3s/step - loss: 2.2015 - accuracy: 0.9144 - val_loss: 2.7323 - val_accuracy: 0.9043\n"
          ]
        }
      ],
      "source": [
        "##########          CNN Construction           ##########\n",
        "vgg = VGG16(input_shape = SIZE + [3], weights = 'imagenet', include_top = False)\n",
        "\n",
        "for layer in vgg.layers:\n",
        "  layer.trainable = False\n",
        "\n",
        "\n",
        "x = Flatten()(vgg.output)\n",
        "prediction = Dense(NUM_CLASSES, activation='softmax')(x)\n",
        "model = Model(inputs=vgg.input, outputs=prediction)\n",
        "\n",
        "\n",
        "adam = Adam()\n",
        "model.compile(loss='binary_crossentropy',\n",
        "              optimizer=adam,\n",
        "              metrics=['accuracy'])\n",
        "\n",
        "##########           Training           ##########\n",
        "\n",
        "checkpoint = ModelCheckpoint(filepath='myCheckpointModel.h5', \n",
        "                               verbose=2, save_best_only=True)\n",
        "\n",
        "callbacks = [checkpoint]\n",
        "\n",
        "\n",
        "history=model.fit(\n",
        "  train_set,\n",
        "  validation_data=val_set,\n",
        "  epochs= 10,\n",
        "  #callbacks=callbacks,\n",
        "  verbose=1)\n",
        "\n",
        "# Guardar el Modelo\n",
        "model.save('mymodel.h5')"
      ]
    },
    {
      "cell_type": "code",
      "execution_count": 6,
      "metadata": {
        "colab": {
          "base_uri": "https://localhost:8080/",
          "height": 295
        },
        "id": "4Zf1mstG6QuN",
        "outputId": "c825665f-2e50-4f03-99c6-11c3ca203d05"
      },
      "outputs": [
        {
          "output_type": "display_data",
          "data": {
            "text/plain": [
              "<Figure size 432x288 with 1 Axes>"
            ],
            "image/png": "[encoded data removed]"
          },
          "metadata": {
            "needs_background": "light"
          }
        }
      ],
      "source": [
        "#plot the loss evolution\n",
        "import matplotlib.pyplot as plt\n",
        "\n",
        "history_dict = history.history\n",
        "loss_values = history_dict['loss']\n",
        "val_loss_values = history_dict['val_loss']\n",
        "\n",
        "epochs = range(1, len(history_dict['accuracy']) + 1)\n",
        "\n",
        "plt.plot(epochs, loss_values, 'bo', label='Training loss')\n",
        "plt.plot(epochs, val_loss_values, 'b', label='Validation loss')\n",
        "plt.title('Training and validation loss')\n",
        "plt.xlabel('Epochs')\n",
        "plt.ylabel('Loss')\n",
        "plt.legend()\n",
        "\n",
        "plt.show()"
      ]
    },
    {
      "cell_type": "code",
      "execution_count": 7,
      "metadata": {
        "colab": {
          "base_uri": "https://localhost:8080/",
          "height": 295
        },
        "id": "beVYeBYA6Txw",
        "outputId": "7652198c-4a83-4307-f1f2-1efdd46d92aa"
      },
      "outputs": [
        {
          "output_type": "display_data",
          "data": {
            "text/plain": [
              "<Figure size 432x288 with 1 Axes>"
            ],
            "image/png": "[encoded data removed]"
          },
          "metadata": {
            "needs_background": "light"
          }
        }
      ],
      "source": [
        "#plot the accuracy evolution\n",
        "plt.clf()\n",
        "\n",
        "acc_values = history_dict['accuracy']\n",
        "val_acc_values = history_dict['val_accuracy']\n",
        "\n",
        "plt.plot(epochs, acc_values, 'bo', label='Training acc')\n",
        "plt.plot(epochs, val_acc_values, 'b', label='Validation acc')\n",
        "plt.title('Training and validation accuracy')\n",
        "plt.xlabel('Epochs')\n",
        "plt.ylabel('Accuracy')\n",
        "plt.legend()\n",
        "\n",
        "plt.show()"
      ]
    },
    {
      "cell_type": "code",
      "execution_count": 8,
      "metadata": {
        "colab": {
          "base_uri": "https://localhost:8080/"
        },
        "id": "7u-zKL2m6Xkl",
        "outputId": "d6d1f17f-6529-4359-f0eb-bc3e7709e4cd"
      },
      "outputs": [
        {
          "output_type": "stream",
          "name": "stdout",
          "text": [
            "Maximmum accuracy reached:  0.9186602830886841\n",
            "Maximmum accuracy reached at epoch:  7\n"
          ]
        }
      ],
      "source": [
        "#Obtain the optimum number of epochs to avoid overfitting\n",
        "max_accuracy = max(val_acc_values)\n",
        "print (\"Maximmum accuracy reached: \", max_accuracy)\n",
        "max_index = val_acc_values.index(max_accuracy)\n",
        "print(\"Maximmum accuracy reached at epoch: \",max_index+1)\n",
        "\n",
        "\n",
        "#Evaluate the model \n",
        "#results = model.evaluate(x_test, y_test)\n",
        "#print(results)"
      ]
    }
  ],
  "metadata": {
    "accelerator": "GPU",
    "colab": {
      "name": "leaf_classification.ipynb",
      "provenance": [],
      "collapsed_sections": [],
      "mount_file_id": "1fzk_U0LUTeXPS0Q2Ge26PwlE_Jl_1fD_",
      "authorship_tag": "ABX9TyOj/w0CD/Hn+ntTm9DYWgVD",
      "include_colab_link": true
    },
    "kernelspec": {
      "display_name": "Python 3",
      "name": "python3"
    },
    "language_info": {
      "name": "python"
    }
  },
  "nbformat": 4,
  "nbformat_minor": 0
}